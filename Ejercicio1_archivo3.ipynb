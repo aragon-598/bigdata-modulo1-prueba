{
 "cells": [
  {
   "cell_type": "code",
   "execution_count": 1,
   "id": "12d8a811-a6f6-4a7f-8793-af07ed77db55",
   "metadata": {},
   "outputs": [],
   "source": [
    "import pandas as pd\n",
    "\n",
    "import os\n",
    "import numpy as np"
   ]
  },
  {
   "cell_type": "code",
   "execution_count": 8,
   "id": "24c09255-eef1-4762-81bd-d9800ffa2a7e",
   "metadata": {},
   "outputs": [],
   "source": [
    "xls_files = [f for f in os.listdir(os.getcwd()) if f.endswith('.xls')]"
   ]
  },
  {
   "cell_type": "code",
   "execution_count": 10,
   "id": "03660837-be78-4f5f-833f-3d94677b3340",
   "metadata": {},
   "outputs": [],
   "source": [
    "dfs = []\n",
    "\n",
    "for xls in xls_files:\n",
    "    df = pd.read_excel(os.path.join(xls), skiprows= 2, usecols=[\"Title\",\"Circuit\",\"Week\\nAdm\"])\n",
    "    dfs.append(df)"
   ]
  },
  {
   "cell_type": "code",
   "execution_count": 11,
   "id": "2a58ae43-5ae6-43aa-b845-7f4efc4a7563",
   "metadata": {},
   "outputs": [],
   "source": [
    "consolidated = pd.concat(dfs, ignore_index= True)"
   ]
  },
  {
   "cell_type": "code",
   "execution_count": 12,
   "id": "962e22ba-2400-4799-bcbc-28c274c76c80",
   "metadata": {},
   "outputs": [
    {
     "data": {
      "text/html": [
       "<div>\n",
       "<style scoped>\n",
       "    .dataframe tbody tr th:only-of-type {\n",
       "        vertical-align: middle;\n",
       "    }\n",
       "\n",
       "    .dataframe tbody tr th {\n",
       "        vertical-align: top;\n",
       "    }\n",
       "\n",
       "    .dataframe thead th {\n",
       "        text-align: right;\n",
       "    }\n",
       "</style>\n",
       "<table border=\"1\" class=\"dataframe\">\n",
       "  <thead>\n",
       "    <tr style=\"text-align: right;\">\n",
       "      <th></th>\n",
       "      <th>Title</th>\n",
       "      <th>Circuit</th>\n",
       "      <th>Week\\nAdm</th>\n",
       "    </tr>\n",
       "  </thead>\n",
       "  <tbody>\n",
       "    <tr>\n",
       "      <th>0</th>\n",
       "      <td>Godzilla y Kong: El Nuevo Imperio</td>\n",
       "      <td>Independiente - Costa Rica</td>\n",
       "      <td>125.0</td>\n",
       "    </tr>\n",
       "    <tr>\n",
       "      <th>1</th>\n",
       "      <td>Kung Fu Panda 4</td>\n",
       "      <td>Independiente - Costa Rica</td>\n",
       "      <td>22.0</td>\n",
       "    </tr>\n",
       "    <tr>\n",
       "      <th>2</th>\n",
       "      <td>Godzilla y Kong: El Nuevo Imperio</td>\n",
       "      <td>Cinemark</td>\n",
       "      <td>3090.0</td>\n",
       "    </tr>\n",
       "    <tr>\n",
       "      <th>3</th>\n",
       "      <td>Kung Fu Panda 4</td>\n",
       "      <td>Cinemark</td>\n",
       "      <td>2526.0</td>\n",
       "    </tr>\n",
       "    <tr>\n",
       "      <th>4</th>\n",
       "      <td>Duna Parte Dos</td>\n",
       "      <td>Cinemark</td>\n",
       "      <td>150.0</td>\n",
       "    </tr>\n",
       "    <tr>\n",
       "      <th>...</th>\n",
       "      <td>...</td>\n",
       "      <td>...</td>\n",
       "      <td>...</td>\n",
       "    </tr>\n",
       "    <tr>\n",
       "      <th>614</th>\n",
       "      <td>Sismo Magnitud 9.5</td>\n",
       "      <td>Cinepolis</td>\n",
       "      <td>93.0</td>\n",
       "    </tr>\n",
       "    <tr>\n",
       "      <th>615</th>\n",
       "      <td>Mavka: Guardiana del Bosque</td>\n",
       "      <td>Cinepolis</td>\n",
       "      <td>25.0</td>\n",
       "    </tr>\n",
       "    <tr>\n",
       "      <th>616</th>\n",
       "      <td>Alicia en el País de las Pesadillas</td>\n",
       "      <td>Cinepolis</td>\n",
       "      <td>12.0</td>\n",
       "    </tr>\n",
       "    <tr>\n",
       "      <th>617</th>\n",
       "      <td>Fatum</td>\n",
       "      <td>Cinepolis</td>\n",
       "      <td>4.0</td>\n",
       "    </tr>\n",
       "    <tr>\n",
       "      <th>618</th>\n",
       "      <td>Noche de Bodas</td>\n",
       "      <td>Cinepolis</td>\n",
       "      <td>2.0</td>\n",
       "    </tr>\n",
       "  </tbody>\n",
       "</table>\n",
       "<p>619 rows × 3 columns</p>\n",
       "</div>"
      ],
      "text/plain": [
       "                                   Title                     Circuit  \\\n",
       "0      Godzilla y Kong: El Nuevo Imperio  Independiente - Costa Rica   \n",
       "1                        Kung Fu Panda 4  Independiente - Costa Rica   \n",
       "2      Godzilla y Kong: El Nuevo Imperio                    Cinemark   \n",
       "3                        Kung Fu Panda 4                    Cinemark   \n",
       "4                         Duna Parte Dos                    Cinemark   \n",
       "..                                   ...                         ...   \n",
       "614                   Sismo Magnitud 9.5                   Cinepolis   \n",
       "615          Mavka: Guardiana del Bosque                   Cinepolis   \n",
       "616  Alicia en el País de las Pesadillas                   Cinepolis   \n",
       "617                                Fatum                   Cinepolis   \n",
       "618                       Noche de Bodas                   Cinepolis   \n",
       "\n",
       "     Week\\nAdm  \n",
       "0        125.0  \n",
       "1         22.0  \n",
       "2       3090.0  \n",
       "3       2526.0  \n",
       "4        150.0  \n",
       "..         ...  \n",
       "614       93.0  \n",
       "615       25.0  \n",
       "616       12.0  \n",
       "617        4.0  \n",
       "618        2.0  \n",
       "\n",
       "[619 rows x 3 columns]"
      ]
     },
     "execution_count": 12,
     "metadata": {},
     "output_type": "execute_result"
    }
   ],
   "source": [
    "consolidated "
   ]
  },
  {
   "cell_type": "code",
   "execution_count": 13,
   "id": "2946478c-104d-4f3c-a2fa-ecc17f88bf39",
   "metadata": {},
   "outputs": [],
   "source": [
    "movies_by_circuit = consolidated.groupby([\"Title\", \"Circuit\"])[\"Week\\nAdm\"].sum().reset_index()"
   ]
  },
  {
   "cell_type": "code",
   "execution_count": 14,
   "id": "bdc58eda-1539-4fd0-b3a1-9ede374e5b74",
   "metadata": {},
   "outputs": [
    {
     "data": {
      "text/html": [
       "<div>\n",
       "<style scoped>\n",
       "    .dataframe tbody tr th:only-of-type {\n",
       "        vertical-align: middle;\n",
       "    }\n",
       "\n",
       "    .dataframe tbody tr th {\n",
       "        vertical-align: top;\n",
       "    }\n",
       "\n",
       "    .dataframe thead th {\n",
       "        text-align: right;\n",
       "    }\n",
       "</style>\n",
       "<table border=\"1\" class=\"dataframe\">\n",
       "  <thead>\n",
       "    <tr style=\"text-align: right;\">\n",
       "      <th></th>\n",
       "      <th>Title</th>\n",
       "      <th>Circuit</th>\n",
       "      <th>Week\\nAdm</th>\n",
       "    </tr>\n",
       "  </thead>\n",
       "  <tbody>\n",
       "    <tr>\n",
       "      <th>0</th>\n",
       "      <td>2024 Festivales y Muestras</td>\n",
       "      <td>Independiente - Costa Rica</td>\n",
       "      <td>68.0</td>\n",
       "    </tr>\n",
       "    <tr>\n",
       "      <th>1</th>\n",
       "      <td>57 Segundos Atras</td>\n",
       "      <td>CCM Cinemas</td>\n",
       "      <td>24.0</td>\n",
       "    </tr>\n",
       "    <tr>\n",
       "      <th>2</th>\n",
       "      <td>57 Segundos Atras</td>\n",
       "      <td>Cinepolis</td>\n",
       "      <td>283.0</td>\n",
       "    </tr>\n",
       "    <tr>\n",
       "      <th>3</th>\n",
       "      <td>57 Segundos Atras</td>\n",
       "      <td>Cines Moderno</td>\n",
       "      <td>7.0</td>\n",
       "    </tr>\n",
       "    <tr>\n",
       "      <th>4</th>\n",
       "      <td>57 Segundos Atras</td>\n",
       "      <td>Independiente - Costa Rica</td>\n",
       "      <td>6.0</td>\n",
       "    </tr>\n",
       "  </tbody>\n",
       "</table>\n",
       "</div>"
      ],
      "text/plain": [
       "                        Title                     Circuit  Week\\nAdm\n",
       "0  2024 Festivales y Muestras  Independiente - Costa Rica       68.0\n",
       "1           57 Segundos Atras                 CCM Cinemas       24.0\n",
       "2           57 Segundos Atras                   Cinepolis      283.0\n",
       "3           57 Segundos Atras               Cines Moderno        7.0\n",
       "4           57 Segundos Atras  Independiente - Costa Rica        6.0"
      ]
     },
     "execution_count": 14,
     "metadata": {},
     "output_type": "execute_result"
    }
   ],
   "source": [
    "movies_by_circuit.head()"
   ]
  },
  {
   "cell_type": "code",
   "execution_count": 15,
   "id": "1dc2882c-c1f2-45a2-93f0-74a1e0b7283f",
   "metadata": {},
   "outputs": [],
   "source": [
    "movies_by_circuit_sorted = movies_by_circuit.sort_values(by=\"Title\", ascending=True)"
   ]
  },
  {
   "cell_type": "code",
   "execution_count": 16,
   "id": "433d2ba6-ebe7-4f52-b50e-59a69bcc701b",
   "metadata": {},
   "outputs": [
    {
     "data": {
      "text/html": [
       "<div>\n",
       "<style scoped>\n",
       "    .dataframe tbody tr th:only-of-type {\n",
       "        vertical-align: middle;\n",
       "    }\n",
       "\n",
       "    .dataframe tbody tr th {\n",
       "        vertical-align: top;\n",
       "    }\n",
       "\n",
       "    .dataframe thead th {\n",
       "        text-align: right;\n",
       "    }\n",
       "</style>\n",
       "<table border=\"1\" class=\"dataframe\">\n",
       "  <thead>\n",
       "    <tr style=\"text-align: right;\">\n",
       "      <th></th>\n",
       "      <th>Title</th>\n",
       "      <th>Circuit</th>\n",
       "      <th>Week\\nAdm</th>\n",
       "    </tr>\n",
       "  </thead>\n",
       "  <tbody>\n",
       "    <tr>\n",
       "      <th>0</th>\n",
       "      <td>2024 Festivales y Muestras</td>\n",
       "      <td>Independiente - Costa Rica</td>\n",
       "      <td>68.0</td>\n",
       "    </tr>\n",
       "    <tr>\n",
       "      <th>1</th>\n",
       "      <td>57 Segundos Atras</td>\n",
       "      <td>CCM Cinemas</td>\n",
       "      <td>24.0</td>\n",
       "    </tr>\n",
       "    <tr>\n",
       "      <th>2</th>\n",
       "      <td>57 Segundos Atras</td>\n",
       "      <td>Cinepolis</td>\n",
       "      <td>283.0</td>\n",
       "    </tr>\n",
       "    <tr>\n",
       "      <th>3</th>\n",
       "      <td>57 Segundos Atras</td>\n",
       "      <td>Cines Moderno</td>\n",
       "      <td>7.0</td>\n",
       "    </tr>\n",
       "    <tr>\n",
       "      <th>4</th>\n",
       "      <td>57 Segundos Atras</td>\n",
       "      <td>Independiente - Costa Rica</td>\n",
       "      <td>6.0</td>\n",
       "    </tr>\n",
       "    <tr>\n",
       "      <th>...</th>\n",
       "      <td>...</td>\n",
       "      <td>...</td>\n",
       "      <td>...</td>\n",
       "    </tr>\n",
       "    <tr>\n",
       "      <th>150</th>\n",
       "      <td>Érase una vez en Panamá</td>\n",
       "      <td>Cinemark</td>\n",
       "      <td>602.0</td>\n",
       "    </tr>\n",
       "    <tr>\n",
       "      <th>152</th>\n",
       "      <td>Érase una vez en Panamá</td>\n",
       "      <td>Cines Moderno</td>\n",
       "      <td>352.0</td>\n",
       "    </tr>\n",
       "    <tr>\n",
       "      <th>148</th>\n",
       "      <td>Érase una vez en Panamá</td>\n",
       "      <td>Caribbean Cinemas</td>\n",
       "      <td>568.0</td>\n",
       "    </tr>\n",
       "    <tr>\n",
       "      <th>149</th>\n",
       "      <td>Érase una vez en Panamá</td>\n",
       "      <td>Cinelandia</td>\n",
       "      <td>19.0</td>\n",
       "    </tr>\n",
       "    <tr>\n",
       "      <th>153</th>\n",
       "      <td>Érase una vez en Panamá</td>\n",
       "      <td>Royal Films Ltda</td>\n",
       "      <td>62.0</td>\n",
       "    </tr>\n",
       "  </tbody>\n",
       "</table>\n",
       "<p>154 rows × 3 columns</p>\n",
       "</div>"
      ],
      "text/plain": [
       "                          Title                     Circuit  Week\\nAdm\n",
       "0    2024 Festivales y Muestras  Independiente - Costa Rica       68.0\n",
       "1             57 Segundos Atras                 CCM Cinemas       24.0\n",
       "2             57 Segundos Atras                   Cinepolis      283.0\n",
       "3             57 Segundos Atras               Cines Moderno        7.0\n",
       "4             57 Segundos Atras  Independiente - Costa Rica        6.0\n",
       "..                          ...                         ...        ...\n",
       "150     Érase una vez en Panamá                    Cinemark      602.0\n",
       "152     Érase una vez en Panamá               Cines Moderno      352.0\n",
       "148     Érase una vez en Panamá           Caribbean Cinemas      568.0\n",
       "149     Érase una vez en Panamá                  Cinelandia       19.0\n",
       "153     Érase una vez en Panamá            Royal Films Ltda       62.0\n",
       "\n",
       "[154 rows x 3 columns]"
      ]
     },
     "execution_count": 16,
     "metadata": {},
     "output_type": "execute_result"
    }
   ],
   "source": [
    "movies_by_circuit_sorted"
   ]
  },
  {
   "cell_type": "code",
   "execution_count": 18,
   "id": "65ee1a1b-4aad-4e3a-b108-25264cb213ab",
   "metadata": {},
   "outputs": [],
   "source": [
    "movies_by_circuit_sorted.to_csv(\"output.txt\", sep=\"\\t\", index=False)"
   ]
  },
  {
   "cell_type": "code",
   "execution_count": 21,
   "id": "058f6965-8c4f-4972-93d0-10ea0a5c9bcc",
   "metadata": {},
   "outputs": [],
   "source": [
    "df_total_per_movie = movies_by_circuit_sorted.groupby(\"Title\")[\"Week\\nAdm\"].sum().reset_index().sort_values(by=\"Title\", ascending=True)"
   ]
  },
  {
   "cell_type": "code",
   "execution_count": 18,
   "id": "82362b26-b519-4ab4-a043-244240979450",
   "metadata": {},
   "outputs": [],
   "source": [
    "df_total_per_movie_sorted = df_total_per_movie.sort_values(by=\"Title\", ascending=True)"
   ]
  },
  {
   "cell_type": "code",
   "execution_count": 22,
   "id": "a607ae7a-41b7-4d8b-b520-15878d9670cb",
   "metadata": {},
   "outputs": [],
   "source": [
    "df_total_per_movie.to_csv(\"output_totales.txt\", sep=\"\\t\", index=False)"
   ]
  },
  {
   "cell_type": "code",
   "execution_count": 20,
   "id": "bbfad2a0-f5d7-42e0-b326-af6dcdac9da8",
   "metadata": {},
   "outputs": [],
   "source": [
    "\n",
    "output = []\n",
    "# Definir ancho de columnas\n",
    "col1_width = 30  # Ancho para el nombre del Circuito\n",
    "col2_width = 10  # Ancho para Week\\Adm\n",
    "col3_width = 15  # Ancho para el Porcentaje\n",
    "\n",
    "for title in df_total_per_movie_sorted[\"Title\"]:\n",
    "    movie_data = movies_by_circuit_sorted[movies_by_circuit_sorted[\"Title\"] == title]\n",
    "\n",
    "    # pasar columnas a numpy para optimizar\n",
    "    circuits = movie_data[\"Circuit\"].values\n",
    "    week_adm_values = movie_data[\"Week\\nAdm\"].astype(int).values\n",
    "\n",
    "    total_adm = int(df_total_per_movie_sorted.loc[df_total_per_movie_sorted[\"Title\"] == title, \"Week\\nAdm\"].values[0])\n",
    "    \n",
    "    percentages = np.round((week_adm_values / total_adm) * 100, 2)\n",
    "    \n",
    "    # Convertir a string con el formato adecuado\n",
    "    percentages = np.array([f\"{p}%\" for p in percentages])\n",
    "    total_adm = int(total_adm)\n",
    "    output.append(\"############################################################################################################################\")\n",
    "    output.append(f\"Pelicula: {title}\\n\")\n",
    "\n",
    "     # Agregar encabezados con formato uniforme\n",
    "    output.append(f\"{'Circuit':<{col1_width}} {'Week\\\\Adm':<{col2_width}} {'Porcentaje':<{col3_width}}\")\n",
    "    \n",
    "    # Usar NumPy para generar filas de salida en un solo paso\n",
    "    formatted_rows = np.array([f\"{c:<{col1_width}} {w:<{col2_width}} {p:<{col3_width}}\" \n",
    "                               for c, w, p in zip(circuits, week_adm_values, percentages)])\n",
    "\n",
    "    output.extend(formatted_rows.tolist())\n",
    "\n",
    "    # Agregar el total con alineación\n",
    "    output.append(f\"{'Total':<{col1_width}} {total_adm:<{col2_width}}\\n\")\n",
    "\n",
    "# Guardar el archivo de salida\n",
    "with open(\"movies_output.txt\", \"w\") as f:\n",
    "    f.write(\"\\n\".join(output))\n"
   ]
  },
  {
   "cell_type": "code",
   "execution_count": 36,
   "id": "7a410a0a-d911-46a1-9bf5-ede6de279981",
   "metadata": {},
   "outputs": [],
   "source": [
    "def saveFile(df_total_per_movie_sorted: pd.DataFrame) -> None:\n",
    "    output = []\n",
    "    # Definir ancho de columnas\n",
    "    col1_width = 30  # Ancho para el nombre del Circuito\n",
    "    col2_width = 10  # Ancho para Week\\Adm\n",
    "    col3_width = 15  # Ancho para el Porcentaje\n",
    "    \n",
    "    for title in df_total_per_movie_sorted[\"Title\"]:\n",
    "        movie_data = movies_by_circuit_sorted[movies_by_circuit_sorted[\"Title\"] == title]\n",
    "    \n",
    "        # pasar columnas a numpy para optimizar\n",
    "        circuits = movie_data[\"Circuit\"].values\n",
    "        week_adm_values = movie_data[\"Week\\nAdm\"].astype(int).values\n",
    "    \n",
    "        total_adm = int(df_total_per_movie_sorted.loc[df_total_per_movie_sorted[\"Title\"] == title, \"Week\\nAdm\"].values[0])\n",
    "        \n",
    "        percentages = np.round((week_adm_values / total_adm) * 100, 2)\n",
    "        \n",
    "        # Convertir a string con el formato adecuado\n",
    "        percentages = np.array([f\"{p}%\" for p in percentages])\n",
    "        total_adm = int(total_adm)\n",
    "        output.append(\"############################################################################################################################\")\n",
    "        output.append(f\"Pelicula: {title}\\n\")\n",
    "    \n",
    "         # Agregar encabezados con formato uniforme\n",
    "        output.append(f\"{'Circuit':<{col1_width}} {'Week\\\\Adm':<{col2_width}} {'Porcentaje':<{col3_width}}\")\n",
    "        \n",
    "        # Usar NumPy para generar filas de salida en un solo paso\n",
    "        formatted_rows = np.array([f\"{c:<{col1_width}} {w:<{col2_width}} {p:<{col3_width}}\" \n",
    "                                   for c, w, p in zip(circuits, week_adm_values, percentages)])\n",
    "    \n",
    "        output.extend(formatted_rows.tolist())\n",
    "    \n",
    "        # Agregar el total con alineación\n",
    "        output.append(f\"{'Total':<{col1_width}} {total_adm:<{col2_width}}\\n\")\n",
    "    \n",
    "    # Guardar el archivo de salida\n",
    "    filename = \"archivo3_\"+datetime.datetime.now().strftime(\"%Y%m%d%H%M%S\") + \".txt\"\n",
    "    with open(filename, \"w\") as f:\n",
    "        f.write(\"\\n\".join(output))\n"
   ]
  },
  {
   "cell_type": "code",
   "execution_count": 24,
   "id": "958087e0-2c1d-4304-9a07-53932c434a1c",
   "metadata": {},
   "outputs": [],
   "source": [
    "def generateDf() -> pd.DataFrame:\n",
    "    xls_files = [f for f in os.listdir(os.getcwd()) if f.endswith('.xls')]\n",
    "\n",
    "    dfs = []\n",
    "    \n",
    "    # Cargar los archivos excel\n",
    "    for xls in xls_files:\n",
    "        df = pd.read_excel(os.path.join(xls), skiprows= 2, usecols=[\"Title\",\"Circuit\",\"Week\\nAdm\"])\n",
    "        dfs.append(df)\n",
    "    \n",
    "    # consolidar en un solo df los archivos xls\n",
    "    df_consolidated = pd.concat(dfs, ignore_index= True)\n",
    "    \n",
    "    # Agrupar por titulo y circuit, sumarizando\n",
    "    df_movies_by_circuit = consolidated.groupby([\"Title\", \"Circuit\"])[\"Week\\nAdm\"].sum().reset_index()\n",
    "    \n",
    "    # Ordenando ascendentemente por pelicula, hasta acá ya estaría el df\n",
    "    df_movies_by_circuit_sorted = movies_by_circuit.sort_values(by=\"Title\", ascending=True)\n",
    "    \n",
    "    # Ahora hacemos el total de asistencia por pelicula y ordenamos\n",
    "    total_per_movie_sorted = movies_by_circuit_sorted.groupby(\"Title\")[\"Week\\nAdm\"].sum().reset_index().sort_values(by=\"Title\", ascending=True)\n",
    "    return total_per_movie_sorted"
   ]
  },
  {
   "cell_type": "code",
   "execution_count": 25,
   "id": "281eedb5-22b7-45ab-b788-593036fe288b",
   "metadata": {},
   "outputs": [],
   "source": [
    "df = generateDf()"
   ]
  },
  {
   "cell_type": "code",
   "execution_count": 37,
   "id": "e4bd9441-f96d-4e57-b061-38ed8d606c4e",
   "metadata": {},
   "outputs": [],
   "source": [
    "saveFile(df)"
   ]
  },
  {
   "cell_type": "code",
   "execution_count": 27,
   "id": "4b7325c8-c6d9-430c-a0b8-4098e904dab1",
   "metadata": {},
   "outputs": [],
   "source": [
    "import datetime"
   ]
  },
  {
   "cell_type": "code",
   "execution_count": 34,
   "id": "e3cfd99d-997f-4bb7-88bf-2127e214d7c1",
   "metadata": {},
   "outputs": [],
   "source": [
    "filename = \"archivo3_\"+datetime.datetime.now().strftime(\"%Y%m%d%H%M%S\") + \".txt\""
   ]
  },
  {
   "cell_type": "code",
   "execution_count": 35,
   "id": "0fd3d278-e1e3-453d-a624-d29ed38407d9",
   "metadata": {},
   "outputs": [
    {
     "data": {
      "text/plain": [
       "'archivo3_20250328105215.txt'"
      ]
     },
     "execution_count": 35,
     "metadata": {},
     "output_type": "execute_result"
    }
   ],
   "source": [
    "filename"
   ]
  }
 ],
 "metadata": {
  "kernelspec": {
   "display_name": "Python 3 (ipykernel)",
   "language": "python",
   "name": "python3"
  },
  "language_info": {
   "codemirror_mode": {
    "name": "ipython",
    "version": 3
   },
   "file_extension": ".py",
   "mimetype": "text/x-python",
   "name": "python",
   "nbconvert_exporter": "python",
   "pygments_lexer": "ipython3",
   "version": "3.12.7"
  }
 },
 "nbformat": 4,
 "nbformat_minor": 5
}
